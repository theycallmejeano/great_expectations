{
 "cells": [
  {
   "cell_type": "markdown",
   "id": "7f0a5264-b003-4101-862f-45653f2aed1b",
   "metadata": {},
   "source": [
    "# How to write multi-batch `BatchRequest` - `Sql` Example\n",
    "* A `BatchRequest` facilitates the return of a `batch` of data from a configured `Datasource`. To find more about `Batches`, please refer to the [related documentation](https://docs.greatexpectations.io/docs/guides/connecting_to_your_data/how_to_get_a_batch_of_data_from_a_configured_datasource#1-construct-a-batchrequest). \n",
    "* A `BatchRequest` can return 0 or more Batches of data depending on the underlying data, and how it is configured. This guide will help you configure `BatchRequests` to return multiple batches, which can be used by\n",
    "   1. Self-Initializing Expectations to estimate parameters\n",
    "   2. DataAssistants to profile your data and create and Expectation suite with self-intialized parameters.\n",
    "   \n",
    "* Note : Multi-batch BatchRequests are not supported in `RuntimeDataConnector`."
   ]
  },
  {
   "cell_type": "code",
   "execution_count": 1,
   "id": "ee54886b-4f88-46d9-9afe-dfd8bb061e19",
   "metadata": {},
   "outputs": [],
   "source": [
    "import great_expectations as ge\n",
    "from ruamel import yaml\n",
    "from great_expectations.core.batch import BatchRequest\n",
    "import sqlite3\n",
    "import pprint"
   ]
  },
  {
   "cell_type": "markdown",
   "id": "bfa243d2-6905-403a-b47a-d89ba834b951",
   "metadata": {},
   "source": [
    "* Load `DataContext`"
   ]
  },
  {
   "cell_type": "code",
   "execution_count": 2,
   "id": "45b1854b-2a75-422e-83bb-5509d868e0c5",
   "metadata": {},
   "outputs": [],
   "source": [
    "data_context: ge.DataContext = ge.get_context()"
   ]
  },
  {
   "cell_type": "markdown",
   "id": "c4462320-d76e-492c-96fb-f0ff8f788851",
   "metadata": {},
   "source": [
    "## Sql Example"
   ]
  },
  {
   "cell_type": "markdown",
   "id": "a6e04726",
   "metadata": {},
   "source": [
    "### Example Database\n",
    "\n",
    "Imagine we have a database of 12 tables, each corresponding to 1 month of Taxi rider data. \n"
   ]
  },
  {
   "cell_type": "code",
   "execution_count": 4,
   "id": "433ba859-4ae7-4a5c-b4fe-8669d679b620",
   "metadata": {},
   "outputs": [],
   "source": [
    "data_path: str = \"../../../test_sets/taxi_yellow_tripdata_samples/sqlite/yellow_tripdata_2020.db\""
   ]
  },
  {
   "cell_type": "code",
   "execution_count": 5,
   "id": "cd29b60b-7e16-4978-acee-0dab368cde3c",
   "metadata": {},
   "outputs": [
    {
     "name": "stdout",
     "output_type": "stream",
     "text": [
      "[('yellow_tripdata_sample_2020_01',),\n",
      " ('yellow_tripdata_sample_2020_02',),\n",
      " ('yellow_tripdata_sample_2020_03',),\n",
      " ('yellow_tripdata_sample_2020_04',),\n",
      " ('yellow_tripdata_sample_2020_05',),\n",
      " ('yellow_tripdata_sample_2020_06',),\n",
      " ('yellow_tripdata_sample_2020_07',),\n",
      " ('yellow_tripdata_sample_2020_08',),\n",
      " ('yellow_tripdata_sample_2020_09',),\n",
      " ('yellow_tripdata_sample_2020_10',),\n",
      " ('yellow_tripdata_sample_2020_11',),\n",
      " ('yellow_tripdata_sample_2020_12',)]\n"
     ]
    }
   ],
   "source": [
    "# connect to sqlite DB, and print the existing tables\n",
    "con = sqlite3.connect(data_path)\n",
    "cur = con.cursor()\n",
    "cur.execute('SELECT name from sqlite_master where type= \"table\"')\n",
    "pprint.pprint(cur.fetchall())"
   ]
  },
  {
   "cell_type": "markdown",
   "id": "49515697-83a2-432d-8b74-33e2f01db72c",
   "metadata": {},
   "source": [
    "### `SimpleSqlDatasource` Example"
   ]
  },
  {
   "cell_type": "markdown",
   "id": "df19a29c",
   "metadata": {},
   "source": [
    "In our example, we add a `SimpleSqlalchemyDatasource` named `taxi_multi_batch_sql_datasource` with 2 `tables`, namely `yellow_tripdata_sample_2020_01`, `yellow_tripdata_sample_2020_02`. The configuration for `yellow_tripdata_sample_2020_02` is mostly used for our `Checkpoint` at the end, so the following doc will focus more on `yellow_tripdata_sample_2020_01`.\n",
    "\n",
    "The configuration for `yellow_tripdata_sample_2020_01` also contains 2 `partitioners` which correspond to names of `ConfiguredAssetSqlDataConnectors`. \n",
    "\n",
    "**Note**: This example only uses `tables`, but `introspection` could also be used. For more information, please refer to the document [How to configure a DataConnector for splitting and sampling tables in SQL](https://docs.greatexpectations.io/docs/guides/connecting_to_your_data/advanced/how_to_configure_a_dataconnector_for_splitting_and_sampling_tables_in_sql)"
   ]
  },
  {
   "cell_type": "markdown",
   "id": "635755a4-36b1-442f-968a-2fbdb9b146d8",
   "metadata": {},
   "source": [
    "The partitioner `whole_table` is built-in to GE, and takes the whole table and returns it as a single Batch. \n",
    "\n",
    "It gives the following output, which corresponds to our two tables: \n",
    "\n",
    "```bash \n",
    "Data Connectors:\n",
    "    whole_table : ConfiguredAssetSqlDataConnector\n",
    "    Available data_asset_names (1 of 1):\n",
    "        yellow_tripdata_sample_2020_01 (1 of 1): [{}]\n",
    "        yellow_tripdata_sample_2020_02 (1 of 1): [{}]\n",
    "```"
   ]
  },
  {
   "cell_type": "markdown",
   "id": "6a7a8284",
   "metadata": {},
   "source": [
    "\n",
    "The partitioner `by_vendor_id` is configured by us, and uses a `splitter_method` to split the table values into multiple batches. The splitter we use is `_split_on_divided_integer`, which creates Batches according to rows where value of column_name divided (using integral division) by the given divisor are same. The column name and divisor are given as part of the `splitter_kwargs` parameter.\n",
    "    \n",
    "Here is the output, which shows the data asset `yellow_tripdata_sample_2020_01` with 3 batches, each associated with a different `vendor_id`. These become our `batch_identifiers` that distinguish one `Batch` from another.\n",
    "\n",
    "```bash\n",
    "Data Connectors:\n",
    "\tby_vendor_id : ConfiguredAssetSqlDataConnector\n",
    "\tAvailable data_asset_names (1 of 1):\n",
    "\t\tyellow_tripdata_sample_2020_01 (3 of 3): [{'vendor_id': 0}, {'vendor_id': 1}, {'vendor_id': 2}]\n",
    "```"
   ]
  },
  {
   "cell_type": "code",
   "execution_count": 6,
   "id": "84150f65-bbd6-4b45-95ab-9590a29f116a",
   "metadata": {},
   "outputs": [
    {
     "name": "stdout",
     "output_type": "stream",
     "text": [
      "Attempting to instantiate class from config...\n",
      "\tInstantiating as a Datasource, since class_name is SimpleSqlalchemyDatasource\n",
      "\tSuccessfully instantiated SimpleSqlalchemyDatasource\n",
      "\n",
      "\n",
      "ExecutionEngine class name: SqlAlchemyExecutionEngine\n",
      "Data Connectors:\n",
      "\tby_vendor_id : ConfiguredAssetSqlDataConnector\n",
      "\n",
      "\tAvailable data_asset_names (1 of 1):\n",
      "\t\tyellow_tripdata_sample_2020_01 (3 of 3): [{'vendor_id': 0}, {'vendor_id': 1}, {'vendor_id': 2}]\n",
      "\n",
      "\tUnmatched data_references (0 of 0):[]\n",
      "\n",
      "\twhole_table : ConfiguredAssetSqlDataConnector\n",
      "\n",
      "\tAvailable data_asset_names (2 of 2):\n",
      "\t\tyellow_tripdata_sample_2020_01 (1 of 1): [{}]\n",
      "\t\tyellow_tripdata_sample_2020_02 (1 of 1): [{}]\n",
      "\n",
      "\tUnmatched data_references (0 of 0):[]\n",
      "\n"
     ]
    },
    {
     "data": {
      "text/plain": [
       "<great_expectations.datasource.simple_sqlalchemy_datasource.SimpleSqlalchemyDatasource at 0x7f882ed410a0>"
      ]
     },
     "execution_count": 6,
     "metadata": {},
     "output_type": "execute_result"
    }
   ],
   "source": [
    "data_path: str = \"../../../test_sets/taxi_yellow_tripdata_samples/sqlite/yellow_tripdata_2020.db\"\n",
    "\n",
    "datasource_config = {\n",
    "    \"name\": \"taxi_multi_batch_sql_datasource\",\n",
    "    \"module_name\": \"great_expectations.datasource\",\n",
    "    \"class_name\": \"SimpleSqlalchemyDatasource\",\n",
    "    \"connection_string\": \"sqlite:///\" + data_path,\n",
    "    \"tables\":{\n",
    "        \"yellow_tripdata_sample_2020_01\": {\n",
    "            \"partitioners\":{\n",
    "                \"whole_table\": {},\n",
    "                \"by_vendor_id\":{\n",
    "                    \"splitter_method\": \"_split_on_divided_integer\",\n",
    "                    \"splitter_kwargs\": {\n",
    "                        \"column_name\": \"vendor_id\",\n",
    "                        \"divisor\": 1\n",
    "                        }\n",
    "                    }\n",
    "                },\n",
    "            },\n",
    "        \"yellow_tripdata_sample_2020_02\": {\n",
    "            \"partitioners\":{\n",
    "                \"whole_table\": {},\n",
    "                },\n",
    "            }\n",
    "    },\n",
    "}\n",
    "data_context.test_yaml_config(yaml.dump(datasource_config))"
   ]
  },
  {
   "cell_type": "code",
   "execution_count": 7,
   "id": "7636ffff-0ddc-48fd-a4cf-f8e139a5e36e",
   "metadata": {},
   "outputs": [],
   "source": [
    "# add_datasource only if it doesn't already exist in our configuration\n",
    "try:\n",
    "    data_context.get_datasource(datasource_config[\"name\"])\n",
    "except ValueError:\n",
    "    data_context.add_datasource(**datasource_config)"
   ]
  },
  {
   "cell_type": "markdown",
   "id": "438146be",
   "metadata": {},
   "source": [
    "## BatchRequest"
   ]
  },
  {
   "cell_type": "markdown",
   "id": "117cdb0d",
   "metadata": {},
   "source": [
    "Depending on which `DataConnector` (ie. `Partitioner`) you send a `BatchRequest` to, you will retrieve a different number of `Batches`"
   ]
  },
  {
   "cell_type": "markdown",
   "id": "87bc9c59",
   "metadata": {},
   "source": [
    "Single Batch returned by `whole_table`"
   ]
  },
  {
   "cell_type": "code",
   "execution_count": 8,
   "id": "0453cd3c",
   "metadata": {},
   "outputs": [],
   "source": [
    "single_batch_batch_request: BatchRequest = BatchRequest(\n",
    "    datasource_name=\"taxi_multi_batch_sql_datasource\",\n",
    "    data_connector_name=\"whole_table\",\n",
    "    data_asset_name=\"yellow_tripdata_sample_2020_01\",\n",
    ")"
   ]
  },
  {
   "cell_type": "code",
   "execution_count": 9,
   "id": "35df7084",
   "metadata": {},
   "outputs": [],
   "source": [
    "batch_list = data_context.get_batch_list(batch_request=single_batch_batch_request)"
   ]
  },
  {
   "cell_type": "code",
   "execution_count": 10,
   "id": "d8e74a05-3fd1-4e47-9105-b721dbcf3516",
   "metadata": {},
   "outputs": [
    {
     "data": {
      "text/plain": [
       "[<great_expectations.core.batch.Batch at 0x7f8846647e50>]"
      ]
     },
     "execution_count": 10,
     "metadata": {},
     "output_type": "execute_result"
    }
   ],
   "source": [
    "batch_list"
   ]
  },
  {
   "cell_type": "markdown",
   "id": "be7f4fa5",
   "metadata": {},
   "source": [
    "Multi Batch returned by `by_vendor_id`"
   ]
  },
  {
   "cell_type": "code",
   "execution_count": 28,
   "id": "c32dbac9-af5d-4677-98f9-f098ef091b6f",
   "metadata": {},
   "outputs": [],
   "source": [
    "multi_batch_batch_request: BatchRequest = BatchRequest(\n",
    "    datasource_name=\"taxi_multi_batch_sql_datasource\",\n",
    "    data_connector_name=\"by_vendor_id\",\n",
    "    data_asset_name=\"yellow_tripdata_sample_2020_01\",\n",
    ")"
   ]
  },
  {
   "cell_type": "code",
   "execution_count": 29,
   "id": "3a284bfd-00aa-4068-bc09-71c6dea627e0",
   "metadata": {},
   "outputs": [],
   "source": [
    "multi_batch_batch_list = data_context.get_batch_list(batch_request=multi_batch_batch_request)"
   ]
  },
  {
   "cell_type": "code",
   "execution_count": 30,
   "id": "7bf3e1ff",
   "metadata": {},
   "outputs": [
    {
     "data": {
      "text/plain": [
       "[<great_expectations.core.batch.Batch at 0x7f882ef8aa30>,\n",
       " <great_expectations.core.batch.Batch at 0x7f884664d910>,\n",
       " <great_expectations.core.batch.Batch at 0x7f882ed00340>]"
      ]
     },
     "execution_count": 30,
     "metadata": {},
     "output_type": "execute_result"
    }
   ],
   "source": [
    "multi_batch_batch_list"
   ]
  },
  {
   "cell_type": "markdown",
   "id": "790746ee",
   "metadata": {},
   "source": [
    "You can also get a single Batch from a multi-batch DataConnector by passing in `data_connector_query`. \n",
    "\n",
    "**Note**: Currently only `batch_filter_parameters` are supported, where we are defining our `vendor_id` to be 2. These will correspond to our `batch_identifiers` when returned from `get_batch_list()`."
   ]
  },
  {
   "cell_type": "code",
   "execution_count": 31,
   "id": "16612bb4",
   "metadata": {},
   "outputs": [],
   "source": [
    "single_batch_batch_request_from_multi: BatchRequest = BatchRequest(\n",
    "    datasource_name=\"taxi_multi_batch_sql_datasource\",\n",
    "    data_connector_name=\"by_vendor_id\",\n",
    "    data_asset_name=\"yellow_tripdata_sample_2020_01\",\n",
    "    data_connector_query={ \n",
    "        \"batch_filter_parameters\": {\"vendor_id\": 2}\n",
    "    }\n",
    ")"
   ]
  },
  {
   "cell_type": "code",
   "execution_count": 32,
   "id": "6ef1b6a9",
   "metadata": {},
   "outputs": [],
   "source": [
    "batch_list = data_context.get_batch_list(batch_request=single_batch_batch_request_from_multi)"
   ]
  },
  {
   "cell_type": "code",
   "execution_count": 33,
   "id": "229815cd",
   "metadata": {},
   "outputs": [
    {
     "data": {
      "text/plain": [
       "{'data': '<great_expectations.execution_engine.sqlalchemy_batch_data.SqlAlchemyBatchData object at 0x7f882ed3bac0>',\n",
       " 'batch_request': {'datasource_name': 'taxi_multi_batch_sql_datasource',\n",
       "  'data_connector_name': 'by_vendor_id',\n",
       "  'data_asset_name': 'yellow_tripdata_sample_2020_01',\n",
       "  'batch_spec_passthrough': None,\n",
       "  'limit': None,\n",
       "  'data_connector_query': {'batch_filter_parameters': {'vendor_id': 2}}},\n",
       " 'batch_definition': {'datasource_name': 'taxi_multi_batch_sql_datasource',\n",
       "  'data_connector_name': 'by_vendor_id',\n",
       "  'data_asset_name': 'yellow_tripdata_sample_2020_01',\n",
       "  'batch_identifiers': {'vendor_id': 2}},\n",
       " 'batch_spec': {'data_asset_name': 'yellow_tripdata_sample_2020_01',\n",
       "  'table_name': 'yellow_tripdata_sample_2020_01',\n",
       "  'batch_identifiers': {'vendor_id': 2},\n",
       "  'splitter_kwargs': {'column_name': 'vendor_id', 'divisor': 1},\n",
       "  'splitter_method': '_split_on_divided_integer'},\n",
       " 'batch_markers': {'ge_load_time': '20220722T235040.915401Z'}}"
      ]
     },
     "execution_count": 33,
     "metadata": {},
     "output_type": "execute_result"
    }
   ],
   "source": [
    "batch_list[0].to_dict() # 'batch_identifiers': {'vendor_id': '2'}},"
   ]
  },
  {
   "cell_type": "markdown",
   "id": "907a6ef5",
   "metadata": {},
   "source": [
    "# Using auto-initializing `Expectations` to generate parameters"
   ]
  },
  {
   "cell_type": "markdown",
   "id": "6efe9c76",
   "metadata": {},
   "source": [
    "We will generate a `Validator` using our `multi_batch_batch_list`"
   ]
  },
  {
   "cell_type": "code",
   "execution_count": 34,
   "id": "847ce4a3",
   "metadata": {},
   "outputs": [],
   "source": [
    "multi_batch_batch_list = data_context.get_batch_list(batch_request=multi_batch_batch_request)"
   ]
  },
  {
   "cell_type": "code",
   "execution_count": 35,
   "id": "a1eca55b",
   "metadata": {},
   "outputs": [],
   "source": [
    "example_suite = data_context.create_expectation_suite(expectation_suite_name=\"example_sql_suite\", overwrite_existing=True)"
   ]
  },
  {
   "cell_type": "code",
   "execution_count": 36,
   "id": "852deba1",
   "metadata": {},
   "outputs": [],
   "source": [
    "validator = data_context.get_validator_using_batch_list(batch_list=multi_batch_batch_list, expectation_suite=example_suite)"
   ]
  },
  {
   "cell_type": "markdown",
   "id": "ee01a0e9",
   "metadata": {},
   "source": [
    "When you run methods on the validator, it will typically run on the most recent batch (index `-1`), even if the Validator has access to a longer Batch list. For example, notice that rows below are all associated with `vendor_id` : `2`."
   ]
  },
  {
   "cell_type": "code",
   "execution_count": 37,
   "id": "65fe8b51",
   "metadata": {},
   "outputs": [
    {
     "data": {
      "application/vnd.jupyter.widget-view+json": {
       "model_id": "34ac5308bf0445d3a500cdaf53fe2c03",
       "version_major": 2,
       "version_minor": 0
      },
      "text/plain": [
       "Calculating Metrics:   0%|          | 0/1 [00:00<?, ?it/s]"
      ]
     },
     "metadata": {},
     "output_type": "display_data"
    },
    {
     "data": {
      "text/html": [
       "<div>\n",
       "<style scoped>\n",
       "    .dataframe tbody tr th:only-of-type {\n",
       "        vertical-align: middle;\n",
       "    }\n",
       "\n",
       "    .dataframe tbody tr th {\n",
       "        vertical-align: top;\n",
       "    }\n",
       "\n",
       "    .dataframe thead th {\n",
       "        text-align: right;\n",
       "    }\n",
       "</style>\n",
       "<table border=\"1\" class=\"dataframe\">\n",
       "  <thead>\n",
       "    <tr style=\"text-align: right;\">\n",
       "      <th></th>\n",
       "      <th>vendor_id</th>\n",
       "      <th>pickup_datetime</th>\n",
       "      <th>dropoff_datetime</th>\n",
       "      <th>passenger_count</th>\n",
       "      <th>trip_distance</th>\n",
       "      <th>rate_code_id</th>\n",
       "      <th>store_and_fwd_flag</th>\n",
       "      <th>pickup_location_id</th>\n",
       "      <th>dropoff_location_id</th>\n",
       "      <th>payment_type</th>\n",
       "      <th>fare_amount</th>\n",
       "      <th>extra</th>\n",
       "      <th>mta_tax</th>\n",
       "      <th>tip_amount</th>\n",
       "      <th>tolls_amount</th>\n",
       "      <th>improvement_surcharge</th>\n",
       "      <th>total_amount</th>\n",
       "      <th>congestion_surcharge</th>\n",
       "    </tr>\n",
       "  </thead>\n",
       "  <tbody>\n",
       "    <tr>\n",
       "      <th>0</th>\n",
       "      <td>2</td>\n",
       "      <td>2020-01-17 05:51:40</td>\n",
       "      <td>2020-01-17 06:10:33</td>\n",
       "      <td>1</td>\n",
       "      <td>9.21</td>\n",
       "      <td>1</td>\n",
       "      <td>N</td>\n",
       "      <td>162</td>\n",
       "      <td>138</td>\n",
       "      <td>1</td>\n",
       "      <td>27.0</td>\n",
       "      <td>0.5</td>\n",
       "      <td>0.5</td>\n",
       "      <td>7.38</td>\n",
       "      <td>6.12</td>\n",
       "      <td>0.3</td>\n",
       "      <td>44.30</td>\n",
       "      <td>2.5</td>\n",
       "    </tr>\n",
       "    <tr>\n",
       "      <th>1</th>\n",
       "      <td>2</td>\n",
       "      <td>2020-01-21 12:57:08</td>\n",
       "      <td>2020-01-21 13:02:57</td>\n",
       "      <td>1</td>\n",
       "      <td>0.80</td>\n",
       "      <td>1</td>\n",
       "      <td>N</td>\n",
       "      <td>161</td>\n",
       "      <td>237</td>\n",
       "      <td>1</td>\n",
       "      <td>5.5</td>\n",
       "      <td>0.0</td>\n",
       "      <td>0.5</td>\n",
       "      <td>1.76</td>\n",
       "      <td>0.00</td>\n",
       "      <td>0.3</td>\n",
       "      <td>10.56</td>\n",
       "      <td>2.5</td>\n",
       "    </tr>\n",
       "    <tr>\n",
       "      <th>2</th>\n",
       "      <td>2</td>\n",
       "      <td>2020-01-18 23:56:11</td>\n",
       "      <td>2020-01-19 00:06:59</td>\n",
       "      <td>5</td>\n",
       "      <td>3.34</td>\n",
       "      <td>1</td>\n",
       "      <td>N</td>\n",
       "      <td>233</td>\n",
       "      <td>75</td>\n",
       "      <td>1</td>\n",
       "      <td>11.5</td>\n",
       "      <td>0.5</td>\n",
       "      <td>0.5</td>\n",
       "      <td>3.06</td>\n",
       "      <td>0.00</td>\n",
       "      <td>0.3</td>\n",
       "      <td>18.36</td>\n",
       "      <td>2.5</td>\n",
       "    </tr>\n",
       "    <tr>\n",
       "      <th>3</th>\n",
       "      <td>2</td>\n",
       "      <td>2020-01-09 08:35:37</td>\n",
       "      <td>2020-01-09 09:09:13</td>\n",
       "      <td>3</td>\n",
       "      <td>6.91</td>\n",
       "      <td>1</td>\n",
       "      <td>N</td>\n",
       "      <td>142</td>\n",
       "      <td>69</td>\n",
       "      <td>2</td>\n",
       "      <td>29.0</td>\n",
       "      <td>0.0</td>\n",
       "      <td>0.5</td>\n",
       "      <td>0.00</td>\n",
       "      <td>0.00</td>\n",
       "      <td>0.3</td>\n",
       "      <td>32.30</td>\n",
       "      <td>2.5</td>\n",
       "    </tr>\n",
       "    <tr>\n",
       "      <th>4</th>\n",
       "      <td>2</td>\n",
       "      <td>2020-01-24 19:39:05</td>\n",
       "      <td>2020-01-24 19:46:47</td>\n",
       "      <td>1</td>\n",
       "      <td>1.02</td>\n",
       "      <td>1</td>\n",
       "      <td>N</td>\n",
       "      <td>264</td>\n",
       "      <td>264</td>\n",
       "      <td>2</td>\n",
       "      <td>7.0</td>\n",
       "      <td>1.0</td>\n",
       "      <td>0.5</td>\n",
       "      <td>0.00</td>\n",
       "      <td>0.00</td>\n",
       "      <td>0.3</td>\n",
       "      <td>11.30</td>\n",
       "      <td>2.5</td>\n",
       "    </tr>\n",
       "  </tbody>\n",
       "</table>\n",
       "</div>"
      ],
      "text/plain": [
       "   vendor_id      pickup_datetime     dropoff_datetime  passenger_count  \\\n",
       "0          2  2020-01-17 05:51:40  2020-01-17 06:10:33                1   \n",
       "1          2  2020-01-21 12:57:08  2020-01-21 13:02:57                1   \n",
       "2          2  2020-01-18 23:56:11  2020-01-19 00:06:59                5   \n",
       "3          2  2020-01-09 08:35:37  2020-01-09 09:09:13                3   \n",
       "4          2  2020-01-24 19:39:05  2020-01-24 19:46:47                1   \n",
       "\n",
       "   trip_distance  rate_code_id store_and_fwd_flag  pickup_location_id  \\\n",
       "0           9.21             1                  N                 162   \n",
       "1           0.80             1                  N                 161   \n",
       "2           3.34             1                  N                 233   \n",
       "3           6.91             1                  N                 142   \n",
       "4           1.02             1                  N                 264   \n",
       "\n",
       "   dropoff_location_id payment_type  fare_amount  extra  mta_tax  tip_amount  \\\n",
       "0                  138            1         27.0    0.5      0.5        7.38   \n",
       "1                  237            1          5.5    0.0      0.5        1.76   \n",
       "2                   75            1         11.5    0.5      0.5        3.06   \n",
       "3                   69            2         29.0    0.0      0.5        0.00   \n",
       "4                  264            2          7.0    1.0      0.5        0.00   \n",
       "\n",
       "   tolls_amount  improvement_surcharge  total_amount  congestion_surcharge  \n",
       "0          6.12                    0.3         44.30                   2.5  \n",
       "1          0.00                    0.3         10.56                   2.5  \n",
       "2          0.00                    0.3         18.36                   2.5  \n",
       "3          0.00                    0.3         32.30                   2.5  \n",
       "4          0.00                    0.3         11.30                   2.5  "
      ]
     },
     "execution_count": 37,
     "metadata": {},
     "output_type": "execute_result"
    }
   ],
   "source": [
    "validator.head()"
   ]
  },
  {
   "cell_type": "markdown",
   "id": "8be66602",
   "metadata": {},
   "source": [
    "### Typical Workflow\n",
    "A `batch_list` becomes really useful when you are calculating parameters for auto-initializing Expectations, as they us a `RuleBasedProfiler` under-the-hood to calculate parameters."
   ]
  },
  {
   "cell_type": "markdown",
   "id": "fdef9ad7",
   "metadata": {},
   "source": [
    "Here is an example running `expect_column_median_to_be_between()` by \"guessing\" at the `min_value` and `max_value`. "
   ]
  },
  {
   "cell_type": "code",
   "execution_count": 38,
   "id": "b524a2df",
   "metadata": {},
   "outputs": [
    {
     "data": {
      "application/vnd.jupyter.widget-view+json": {
       "model_id": "f8b68257721742d5bc2581f6cb794af8",
       "version_major": 2,
       "version_minor": 0
      },
      "text/plain": [
       "Calculating Metrics:   0%|          | 0/9 [00:00<?, ?it/s]"
      ]
     },
     "metadata": {},
     "output_type": "display_data"
    },
    {
     "data": {
      "text/plain": [
       "{\n",
       "  \"meta\": {},\n",
       "  \"result\": {\n",
       "    \"observed_value\": 1.6\n",
       "  },\n",
       "  \"exception_info\": {\n",
       "    \"raised_exception\": false,\n",
       "    \"exception_traceback\": null,\n",
       "    \"exception_message\": null\n",
       "  },\n",
       "  \"success\": false\n",
       "}"
      ]
     },
     "execution_count": 38,
     "metadata": {},
     "output_type": "execute_result"
    }
   ],
   "source": [
    "validator.expect_column_median_to_be_between(column=\"trip_distance\", min_value=0, max_value=1)"
   ]
  },
  {
   "cell_type": "markdown",
   "id": "f18d096f",
   "metadata": {},
   "source": [
    "The observed value for our `yellow_tripdata_sample_2020_01` table where `vendor_id` = `2`  is going to be `1.6`, which means the Expectation fails"
   ]
  },
  {
   "cell_type": "markdown",
   "id": "9c5016d8",
   "metadata": {},
   "source": [
    "Now we run the same expectation again, but this time with `auto=True`. This means the `median` values are going to calculated across the `batch_list` associated with the `Validator` (ie 3 Batches for `yellow_tripdata_sample_2020_01`), which gives the min value of `1.5` and the max value of `5.23`"
   ]
  },
  {
   "cell_type": "code",
   "execution_count": 40,
   "id": "cdd821c3",
   "metadata": {},
   "outputs": [
    {
     "name": "stdout",
     "output_type": "stream",
     "text": [
      "\n"
     ]
    },
    {
     "data": {
      "application/vnd.jupyter.widget-view+json": {
       "model_id": "56dce7437ca44396a3de64a4d7e4e0ae",
       "version_major": 2,
       "version_minor": 0
      },
      "text/plain": [
       "Generating Expectations:   0%|          | 0/1 [00:00<?, ?it/s]"
      ]
     },
     "metadata": {},
     "output_type": "display_data"
    },
    {
     "data": {
      "application/vnd.jupyter.widget-view+json": {
       "model_id": "",
       "version_major": 2,
       "version_minor": 0
      },
      "text/plain": [
       "Profiling Dataset:         0%|          | 0/1 [00:00<?, ?it/s]"
      ]
     },
     "metadata": {},
     "output_type": "display_data"
    },
    {
     "data": {
      "application/vnd.jupyter.widget-view+json": {
       "model_id": "57f6f4342e2b497382b5d7352ead4b0b",
       "version_major": 2,
       "version_minor": 0
      },
      "text/plain": [
       "Calculating Metrics:   0%|          | 0/9 [00:00<?, ?it/s]"
      ]
     },
     "metadata": {},
     "output_type": "display_data"
    },
    {
     "data": {
      "text/plain": [
       "{\n",
       "  \"meta\": {},\n",
       "  \"result\": {\n",
       "    \"observed_value\": 1.6\n",
       "  },\n",
       "  \"expectation_config\": {\n",
       "    \"meta\": {\n",
       "      \"auto_generated_at\": \"20220722T235124.583834Z\",\n",
       "      \"great_expectations_version\": \"0.15.15+13.gfd707510f.dirty\"\n",
       "    },\n",
       "    \"kwargs\": {\n",
       "      \"strict_max\": false,\n",
       "      \"max_value\": 5.16,\n",
       "      \"strict_min\": false,\n",
       "      \"column\": \"trip_distance\",\n",
       "      \"min_value\": 1.5\n",
       "    },\n",
       "    \"expectation_type\": \"expect_column_median_to_be_between\"\n",
       "  },\n",
       "  \"exception_info\": {\n",
       "    \"raised_exception\": false,\n",
       "    \"exception_traceback\": null,\n",
       "    \"exception_message\": null\n",
       "  },\n",
       "  \"success\": true\n",
       "}"
      ]
     },
     "execution_count": 40,
     "metadata": {},
     "output_type": "execute_result"
    }
   ],
   "source": [
    "validator.expect_column_median_to_be_between(column=\"trip_distance\", auto=True)"
   ]
  },
  {
   "cell_type": "markdown",
   "id": "c6a6c277",
   "metadata": {},
   "source": [
    "The `auto=True` will also automatically run the Expectation against the most recent Batch (which has an observed value of `1.61`) and the Expectation will pass. "
   ]
  },
  {
   "cell_type": "markdown",
   "id": "90b8b938",
   "metadata": {},
   "source": [
    "You can now save the `ExpectationSuite`."
   ]
  },
  {
   "cell_type": "code",
   "execution_count": 41,
   "id": "eba880ed",
   "metadata": {},
   "outputs": [],
   "source": [
    "validator.save_expectation_suite()"
   ]
  },
  {
   "cell_type": "markdown",
   "id": "1b7ec631",
   "metadata": {},
   "source": [
    "### Running the `ExpectationSuite` against single `Batch`"
   ]
  },
  {
   "cell_type": "markdown",
   "id": "477381f5",
   "metadata": {},
   "source": [
    "Now the ExpectationSuite can be used to validate single batches using a Checkpoint. In our example, let's validate a different table, `yellow_tripdata_sample_2020_02`, using the `ExpectationSuite` we built from `yellow_tripdata_sample_2020_01`."
   ]
  },
  {
   "cell_type": "code",
   "execution_count": 42,
   "id": "747dea95",
   "metadata": {},
   "outputs": [],
   "source": [
    "single_batch_batch_request_from_multi: BatchRequest = BatchRequest(\n",
    "    datasource_name=\"taxi_multi_batch_sql_datasource\",\n",
    "    data_connector_name=\"whole_table\",\n",
    "    data_asset_name=\"yellow_tripdata_sample_2020_02\",\n",
    "\n",
    ")\n"
   ]
  },
  {
   "cell_type": "code",
   "execution_count": 43,
   "id": "9d392e80",
   "metadata": {},
   "outputs": [
    {
     "data": {
      "text/plain": [
       "{\n",
       "  \"action_list\": [\n",
       "    {\n",
       "      \"name\": \"store_validation_result\",\n",
       "      \"action\": {\n",
       "        \"class_name\": \"StoreValidationResultAction\"\n",
       "      }\n",
       "    },\n",
       "    {\n",
       "      \"name\": \"store_evaluation_params\",\n",
       "      \"action\": {\n",
       "        \"class_name\": \"StoreEvaluationParametersAction\"\n",
       "      }\n",
       "    },\n",
       "    {\n",
       "      \"name\": \"update_data_docs\",\n",
       "      \"action\": {\n",
       "        \"class_name\": \"UpdateDataDocsAction\",\n",
       "        \"site_names\": []\n",
       "      }\n",
       "    }\n",
       "  ],\n",
       "  \"batch_request\": {},\n",
       "  \"class_name\": \"Checkpoint\",\n",
       "  \"config_version\": 1.0,\n",
       "  \"evaluation_parameters\": {},\n",
       "  \"module_name\": \"great_expectations.checkpoint\",\n",
       "  \"name\": \"my_checkpoint\",\n",
       "  \"profilers\": [],\n",
       "  \"runtime_configuration\": {},\n",
       "  \"validations\": [\n",
       "    {\n",
       "      \"batch_request\": {\n",
       "        \"datasource_name\": \"taxi_multi_batch_sql_datasource\",\n",
       "        \"data_connector_name\": \"whole_table\",\n",
       "        \"data_asset_name\": \"yellow_tripdata_sample_2020_02\"\n",
       "      },\n",
       "      \"expectation_suite_name\": \"example_sql_suite\"\n",
       "    }\n",
       "  ]\n",
       "}"
      ]
     },
     "execution_count": 43,
     "metadata": {},
     "output_type": "execute_result"
    }
   ],
   "source": [
    "checkpoint_config = {\n",
    "    \"name\": \"my_checkpoint\",\n",
    "    \"config_version\": 1,\n",
    "    \"class_name\": \"SimpleCheckpoint\",\n",
    "    \"validations\": [\n",
    "        {\n",
    "            \"batch_request\": single_batch_batch_request_from_multi,\n",
    "            \"expectation_suite_name\": \"example_sql_suite\",            \n",
    "        }\n",
    "    ],\n",
    "}\n",
    "data_context.add_checkpoint(**checkpoint_config)"
   ]
  },
  {
   "cell_type": "code",
   "execution_count": 44,
   "id": "3269dfba",
   "metadata": {},
   "outputs": [
    {
     "data": {
      "application/vnd.jupyter.widget-view+json": {
       "model_id": "794f343106124b0d8fe63e0270e81c46",
       "version_major": 2,
       "version_minor": 0
      },
      "text/plain": [
       "Calculating Metrics:   0%|          | 0/9 [00:00<?, ?it/s]"
      ]
     },
     "metadata": {},
     "output_type": "display_data"
    }
   ],
   "source": [
    "results = data_context.run_checkpoint(\n",
    "    checkpoint_name=\"my_checkpoint\"\n",
    ")"
   ]
  },
  {
   "cell_type": "code",
   "execution_count": 45,
   "id": "c6234082",
   "metadata": {},
   "outputs": [
    {
     "data": {
      "text/plain": [
       "True"
      ]
     },
     "execution_count": 45,
     "metadata": {},
     "output_type": "execute_result"
    }
   ],
   "source": [
    "results.success"
   ]
  }
 ],
 "metadata": {
  "kernelspec": {
   "display_name": "Python 3 (ipykernel)",
   "language": "python",
   "name": "python3"
  },
  "language_info": {
   "codemirror_mode": {
    "name": "ipython",
    "version": 3
   },
   "file_extension": ".py",
   "mimetype": "text/x-python",
   "name": "python",
   "nbconvert_exporter": "python",
   "pygments_lexer": "ipython3",
   "version": "3.8.3"
  }
 },
 "nbformat": 4,
 "nbformat_minor": 5
}
